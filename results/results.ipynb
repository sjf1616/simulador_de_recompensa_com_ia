{
 "cells": [
  {
   "cell_type": "code",
   "execution_count": 7,
   "id": "de0f0940",
   "metadata": {},
   "outputs": [],
   "source": [
    "import matplotlib.pyplot as plt"
   ]
  },
  {
   "cell_type": "code",
   "execution_count": 13,
   "id": "277555ad",
   "metadata": {},
   "outputs": [],
   "source": [
    "import pandas as pd\n",
    "\n",
    "df_data = pd.DataFrame(data = pd.read_json('../data/data.json'))\n",
    "df_data_invertido = df_data.T\n",
    "\n",
    "x = df_data_invertido.index\n",
    "y = df_data_invertido.groupby(\"media_recompensa\")[\"vezes\"].sum()"
   ]
  },
  {
   "cell_type": "code",
   "execution_count": 14,
   "id": "1eb4f11c",
   "metadata": {},
   "outputs": [
    {
     "data": {
      "image/png": "[encoded data removed]",
      "text/plain": [
       "<Figure size 800x500 with 1 Axes>"
      ]
     },
     "metadata": {},
     "output_type": "display_data"
    }
   ],
   "source": [
    "plt.figure(figsize=(8, 5))\n",
    "plt.bar(x, y)\n",
    "plt.xlabel('Ações')\n",
    "plt.ylabel('Media de Recompensa')\n",
    "plt.title('Media de Recompensa por Ação')\n",
    "plt.xticks(rotation=20)\n",
    "plt.grid(axis='y', linestyle='--', alpha=0.7)\n",
    "plt.tight_layout()\n",
    "plt.show()"
   ]
  },
  {
   "cell_type": "markdown",
   "id": "6bdda0a9",
   "metadata": {},
   "source": [
    "*PRIMEIRO TREINO DO MODELO, PARA PREVER QUAL AÇÃO ELE VAI TOMAR*\n",
    "--- \n",
    "\n",
    "- Ler o dataset\n",
    "\n",
    "- Transformar acao em valores numéricos (LabelEncoder)\n",
    "\n",
    "- Separar treino e teste (train_test_split)\n",
    "\n",
    "- Treinar um modelo (RandomForest, LogisticRegression, ou até um modelo simples de regressão logística para início)\n",
    "\n",
    "- Avaliar a acurácia\n",
    "\n",
    "- Usar o modelo para prever a próxima ação"
   ]
  },
  {
   "cell_type": "code",
   "execution_count": 10,
   "id": "c0065095",
   "metadata": {},
   "outputs": [
    {
     "name": "stdout",
     "output_type": "stream",
     "text": [
      "Acurácia: 0.17\n",
      "Próxima ação prevista Ler\n"
     ]
    },
    {
     "name": "stderr",
     "output_type": "stream",
     "text": [
      "c:\\Users\\onlin\\Desktop\\portifolio\\projects\\simulador-de-recompensa-IA\\venv\\Lib\\site-packages\\sklearn\\utils\\validation.py:2749: UserWarning: X does not have valid feature names, but RandomForestClassifier was fitted with feature names\n",
      "  warnings.warn(\n"
     ]
    }
   ],
   "source": [
    "import pandas as pd\n",
    "from sklearn.model_selection import train_test_split\n",
    "from sklearn.preprocessing import LabelEncoder\n",
    "from sklearn.ensemble import RandomForestClassifier\n",
    "from sklearn.metrics import accuracy_score\n",
    "\n",
    "# 1. Ler o dataset\n",
    "df = pd.read_csv(\"../data/dataset.csv\")\n",
    "\n",
    "# 2. Transformar acao em valores numéricos (LabelEncoder)\n",
    "le = LabelEncoder()\n",
    "df[\"acao_enconded\"] = le.fit_transform(df[\"acao\"])\n",
    "\n",
    "# 3. Separar treino e test (train_test_split)\n",
    "xX = df[[\"dopamina\",\"recompensa_real\"]]\n",
    "y = df[\"acao_enconded\"]\n",
    "\n",
    "# 4. Dividir o treino teste\n",
    "X_train, X_test, y_train, y_test = train_test_split(xX, y, test_size=0.2, random_state=42)\n",
    "\n",
    "# 5. Treinar o modelo \n",
    "model = RandomForestClassifier()\n",
    "model.fit(X_train, y_train)\n",
    "\n",
    "# 6. Avaliar\n",
    "y_pred = model.predict(X_test)\n",
    "print(\"Acurácia:\", accuracy_score(y_test, y_pred))\n",
    "\n",
    "# 7. Exemplo de previsão\n",
    "nova_dopamina = 7.5\n",
    "nova_recompensa = 8.0\n",
    "acao_prevista = le.inverse_transform(model.predict([[nova_dopamina, nova_recompensa]]))\n",
    "print(\"Próxima ação prevista\", acao_prevista[0])"
   ]
  },
  {
   "cell_type": "markdown",
   "id": "b7a99439",
   "metadata": {},
   "source": [
    "*Resultados*\n",
    "\n",
    "**1° Teste**\n",
    "\n",
    "- Acurácia: 0.125\n",
    "- Ação Prevista: Estudar\n",
    "- Total linhas para treino: 40\n",
    "- Conclusão: O modelo está acertando 1 a cada 8 previsões, está em overfitting ou underfittingm, a porcentagem de 12,5% é muito baixa. \n",
    "----\n",
    "**2° Teste**\n",
    "\n",
    "- Acurácia: 0.163\n",
    "- Ação Prevista: Estudar\n",
    "- Total linhas para treino: 1042\n",
    "- Conclusão: O modelo retornou com 16% de acerto, abaixo de 20% o que é considerado um \"chute\". Falta mais \"features\" para ele conseguir rodar bem."
   ]
  },
  {
   "cell_type": "markdown",
   "id": "fcbb127b",
   "metadata": {},
   "source": []
  },
  {
   "cell_type": "code",
   "execution_count": 27,
   "id": "f28177e5",
   "metadata": {},
   "outputs": [
    {
     "data": {
      "text/plain": [
       "acao\n",
       "Tiktok     21.923077\n",
       "Estudar    20.865385\n",
       "Ler        20.288462\n",
       "Jogar      19.423077\n",
       "Musica     17.500000\n",
       "Name: proportion, dtype: float64"
      ]
     },
     "execution_count": 27,
     "metadata": {},
     "output_type": "execute_result"
    }
   ],
   "source": [
    "df['acao'].value_counts(normalize=True) * 100"
   ]
  },
  {
   "cell_type": "code",
   "execution_count": null,
   "id": "cc7a818d",
   "metadata": {},
   "outputs": [],
   "source": []
  }
 ],
 "metadata": {
  "kernelspec": {
   "display_name": "venv (3.13.1)",
   "language": "python",
   "name": "python3"
  },
  "language_info": {
   "codemirror_mode": {
    "name": "ipython",
    "version": 3
   },
   "file_extension": ".py",
   "mimetype": "text/x-python",
   "name": "python",
   "nbconvert_exporter": "python",
   "pygments_lexer": "ipython3",
   "version": "3.13.1"
  }
 },
 "nbformat": 4,
 "nbformat_minor": 5
}
